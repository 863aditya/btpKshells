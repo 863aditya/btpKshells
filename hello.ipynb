{
 "cells": [
  {
   "cell_type": "code",
   "execution_count": 184,
   "metadata": {},
   "outputs": [],
   "source": [
    "def read_multilayer_adjacency_list(file_path,delimiter = ' '):\n",
    "    multilayer_graph = {}\n",
    "    with open(file_path, 'r') as file:\n",
    "        for line in file:\n",
    "            # Split the line into columns based on whitespace\n",
    "            layer, node_from, node_to , weight = line.strip().split(delimiter)\n",
    "            # Convert layer number to integer\n",
    "            layer = int(layer)\n",
    "            # Ensure layer exists in the multilayer graph dictionary\n",
    "            if layer not in multilayer_graph:\n",
    "                multilayer_graph[layer] = {}\n",
    "            # Add edges to the multilayer graph\n",
    "            if node_from not in multilayer_graph[layer]:\n",
    "                multilayer_graph[layer][node_from] = []\n",
    "\n",
    "            multilayer_graph[layer][node_from].append(node_to)\n",
    "    return multilayer_graph\n",
    "\n",
    "# Example usage:\n",
    "file_path = '/home/divyansh/COLLEGE/BTP/Datasets/NBAFINALS2015_Multiplex_Social/NBAFINALS2015_Multiplex_Social/Dataset/NBAFINALS2015_multiplex.edges'  # Replace 'multilayer_graph.edges' with the path to your .edges file\n",
    "multilayer_adj = read_multilayer_adjacency_list(file_path)\n",
    "\n",
    "# Now you have a dictionary where the keys are layer numbers\n",
    "# and the values are lists of edges (represented as tuples of Node From and Node To).\n",
    "\n"
   ]
  },
  {
   "cell_type": "code",
   "execution_count": 185,
   "metadata": {},
   "outputs": [],
   "source": [
    "# print(multilayer_graph)\n",
    "def func(multilayer_graph):\n",
    "    with open('/home/divyansh/COLLEGE/BTP/btpKshells/output.txt', 'w') as file:\n",
    "        for x in multilayer_graph:\n",
    "            for y in multilayer_graph[x]:\n",
    "                file.write(str(y) + \" \")\n",
    "            file.write(\"\\n\")\n"
   ]
  },
  {
   "cell_type": "code",
   "execution_count": 186,
   "metadata": {},
   "outputs": [],
   "source": [
    "def read_multilayer_graph(file_path):\n",
    "    multilayer_graph = {}\n",
    "    with open(file_path, 'r') as file:\n",
    "        for line in file:\n",
    "            # Split the line into columns based on whitespace\n",
    "            layer, node_from, node_to ,wt = line.strip().split()\n",
    "            # Convert layer number to integer\n",
    "            layer = int(layer)\n",
    "            node_from = int(node_from)\n",
    "            node_to = int(node_to)\n",
    "            # Ensure layer exists in the multilayer graph dictionary\n",
    "            if layer not in multilayer_graph:\n",
    "                multilayer_graph[layer] = []\n",
    "            # Add edges to the multilayer graph\n",
    "            multilayer_graph[layer].append((node_from, node_to))\n",
    "    return multilayer_graph\n",
    "\n",
    "edges = '/home/divyansh/COLLEGE/BTP/Datasets/NBAFINALS2015_Multiplex_Social/NBAFINALS2015_Multiplex_Social/Dataset/NBAFINALS2015_multiplex.edges'  # Replace 'multilayer_graph.edges' with the path to your .edges file\n",
    "\n",
    "multilayer_graph = read_multilayer_graph(edges)\n",
    "\n",
    "# Now you have a dictionary where the keys are layer numbers\n",
    "# and the values are lists of edges (represented as tuples of Node From and Node To).\n",
    "# print(multilayer_graph)\n"
   ]
  },
  {
   "cell_type": "code",
   "execution_count": 187,
   "metadata": {},
   "outputs": [],
   "source": [
    "import networkx as nx"
   ]
  },
  {
   "cell_type": "code",
   "execution_count": 188,
   "metadata": {},
   "outputs": [],
   "source": [
    "graph = nx.Graph()\n",
    "graph.add_edges_from(multilayer_graph[1])"
   ]
  },
  {
   "cell_type": "code",
   "execution_count": 189,
   "metadata": {},
   "outputs": [],
   "source": [
    "from networkx import community\n",
    "communities = community.label_propagation_communities(graph)\n"
   ]
  },
  {
   "cell_type": "code",
   "execution_count": 190,
   "metadata": {},
   "outputs": [],
   "source": [
    "# for value in communities.values():\n",
    "#     print(value)"
   ]
  },
  {
   "cell_type": "code",
   "execution_count": 210,
   "metadata": {},
   "outputs": [
    {
     "ename": "TypeError",
     "evalue": "list indices must be integers or slices, not tuple",
     "output_type": "error",
     "traceback": [
      "\u001b[0;31m---------------------------------------------------------------------------\u001b[0m",
      "\u001b[0;31mTypeError\u001b[0m                                 Traceback (most recent call last)",
      "Input \u001b[0;32mIn [210]\u001b[0m, in \u001b[0;36m<cell line: 2>\u001b[0;34m()\u001b[0m\n\u001b[1;32m      2\u001b[0m \u001b[38;5;28;01mwith\u001b[39;00m \u001b[38;5;28mopen\u001b[39m(\u001b[38;5;124m'\u001b[39m\u001b[38;5;124m/home/divyansh/COLLEGE/BTP/btpKshells/output.txt\u001b[39m\u001b[38;5;124m'\u001b[39m, \u001b[38;5;124m'\u001b[39m\u001b[38;5;124mw\u001b[39m\u001b[38;5;124m'\u001b[39m) \u001b[38;5;28;01mas\u001b[39;00m file:\n\u001b[1;32m      3\u001b[0m     \u001b[38;5;28;01mfor\u001b[39;00m i \u001b[38;5;129;01min\u001b[39;00m multilayer_graph[\u001b[38;5;241m1\u001b[39m]:\n\u001b[0;32m----> 4\u001b[0m         \u001b[38;5;28;01mfor\u001b[39;00m j \u001b[38;5;129;01min\u001b[39;00m \u001b[43mmultilayer_graph\u001b[49m\u001b[43m[\u001b[49m\u001b[38;5;241;43m1\u001b[39;49m\u001b[43m]\u001b[49m\u001b[43m[\u001b[49m\u001b[43mi\u001b[49m\u001b[43m]\u001b[49m:\n\u001b[1;32m      5\u001b[0m             file\u001b[38;5;241m.\u001b[39mwrite(\u001b[38;5;28mstr\u001b[39m(j) \u001b[38;5;241m+\u001b[39m \u001b[38;5;124m\"\u001b[39m\u001b[38;5;124m,\u001b[39m\u001b[38;5;130;01m\\n\u001b[39;00m\u001b[38;5;124m\"\u001b[39m)\n\u001b[1;32m      6\u001b[0m         file\u001b[38;5;241m.\u001b[39mwrite(\u001b[38;5;124m\"\u001b[39m\u001b[38;5;130;01m\\n\u001b[39;00m\u001b[38;5;124m\"\u001b[39m)\n",
      "\u001b[0;31mTypeError\u001b[0m: list indices must be integers or slices, not tuple"
     ]
    }
   ],
   "source": [
    "# print(communities)\n",
    "with open('/home/divyansh/COLLEGE/BTP/btpKshells/output.txt', 'w') as file:\n",
    "    for i in multilayer_graph[1]:\n",
    "        for j in multilayer_graph[1][i]:\n",
    "            file.write(str(j) + \",\\n\")\n",
    "        file.write(\"\\n\")\n",
    "        \n",
    "\n",
    "# print(communities.values())"
   ]
  },
  {
   "cell_type": "code",
   "execution_count": 202,
   "metadata": {},
   "outputs": [],
   "source": [
    "def calculate_degree(edges):\n",
    "    degrees = {}\n",
    "\n",
    "    for edge in edges:\n",
    "        node1, node2 = edge\n",
    "\n",
    "        # Increment the degree of node1\n",
    "        degrees[node1] =  degrees[node1] + 1\n",
    "\n",
    "        # Increment the degree of node2\n",
    "        degrees[node2] = degrees[node2] + 1\n",
    "\n",
    "    return degrees"
   ]
  },
  {
   "cell_type": "code",
   "execution_count": 193,
   "metadata": {},
   "outputs": [],
   "source": [
    "degrees = calculate_degree(multilayer_graph[1])\n",
    "with open('/home/divyansh/COLLEGE/BTP/btpKshells/output.txt', 'w') as file:\n",
    "    for i in degrees:\n",
    "        file.write(str(degrees[i]) + \" \")\n",
    "    file.write(\" \\n\")    \n"
   ]
  },
  {
   "cell_type": "code",
   "execution_count": 194,
   "metadata": {},
   "outputs": [],
   "source": [
    "def read_multilayer_nodes(file_path,delimiter=\" \"):\n",
    "    multilayer_graph = []\n",
    "    with open(file_path, 'r') as file:\n",
    "        for line in file:\n",
    "            \n",
    "            node1 ,node2 = line.strip().split(delimiter)\n",
    "            \n",
    "            node1 = int(node1)\n",
    "            node2 = int(node2)\n",
    "            # Ensure layer exists in the multilayer graph dictionary\n",
    "            # if layer not in multilayer_graph:\n",
    "            #     multilayer_graph[layer] = []\n",
    "            # Add edges to the multilayer graph\n",
    "            multilayer_graph.append(node1)\n",
    "    return multilayer_graph\n",
    "\n",
    "nodes = '/home/divyansh/COLLEGE/BTP/Datasets/NBAFINALS2015_Multiplex_Social/NBAFINALS2015_Multiplex_Social/Dataset/NBAFINALS2015_nodes.txt'  # Replace 'multilayer_graph.edges' with the path to your .edges file\n",
    "\n",
    "multilayer_nodes = read_multilayer_nodes(nodes)\n"
   ]
  },
  {
   "cell_type": "code",
   "execution_count": 212,
   "metadata": {},
   "outputs": [],
   "source": [
    "def label_propagation_algorithm():\n",
    "    # Step 1: Initialize Node set (NS) and buckets list (BL)\n",
    "    NS = set(multilayer_nodes)\n",
    "    BL = {temp: [] for temp in range(1, n+1)}\n",
    "    \n",
    "    # Step 2: Find communities using Label Propagation Algorithm\n",
    "    # communities\n",
    "\n",
    "\n",
    "    # Step 3: Find the degrees of the nodes\n",
    "    degrees = calculate_degree(edges)\n",
    "    for y in degrees:\n",
    "        n = max(y) \n",
    "    print(n)\n",
    "\n",
    "\n",
    "    # Step 4: Iterate through each degree\n",
    "    for temp in range(1, n+1):\n",
    "        # Step 5: Iterate through each node in NS\n",
    "        for i_l in NS:\n",
    "            # Step 6: Check if degree of node i_l is equal to temp\n",
    "            if degree[i_l] == temp:\n",
    "                # Step 7: Remove node i_l from NS\n",
    "                NS.remove(i_l)\n",
    "                \n",
    "                # Step 8: Add one reward point to neighbors of node i_l\n",
    "                for neighbor in neighbors[i_l]:\n",
    "                    reward_points[neighbor] += 1\n",
    "                \n",
    "                # Step 9: Add node i_l to the degree's bucket\n",
    "                BL[temp].append(i_l)\n",
    "        \n",
    "        # Step 11: Check if any node left with degree temp\n",
    "        while BL[temp]:\n",
    "            # Repeat steps 5-8\n",
    "            i_l = BL[temp].pop()\n",
    "            for neighbor in neighbors[i_l]:\n",
    "                reward_points[neighbor] += 1\n",
    "            BL[temp].append(i_l)\n",
    "    \n",
    "    # Step 13: Increment temp\n",
    "    temp += 1\n",
    "    \n",
    "    # Step 14: Update the buckets list BL\n",
    "    # Assuming there's an update_buckets_list function to handle this step\n",
    "    update_buckets_list(BL)\n"
   ]
  },
  {
   "cell_type": "code",
   "execution_count": 224,
   "metadata": {},
   "outputs": [
    {
     "name": "stdout",
     "output_type": "stream",
     "text": [
      "747937\n"
     ]
    }
   ],
   "source": [
    "# for y in degrees:\n",
    "n = max(y for y in degrees) \n",
    "print(n)"
   ]
  }
 ],
 "metadata": {
  "kernelspec": {
   "display_name": "Python 3",
   "language": "python",
   "name": "python3"
  },
  "language_info": {
   "codemirror_mode": {
    "name": "ipython",
    "version": 3
   },
   "file_extension": ".py",
   "mimetype": "text/x-python",
   "name": "python",
   "nbconvert_exporter": "python",
   "pygments_lexer": "ipython3",
   "version": "3.8.10"
  }
 },
 "nbformat": 4,
 "nbformat_minor": 2
}
