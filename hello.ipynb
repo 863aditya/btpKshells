{
 "cells": [
  {
   "cell_type": "code",
   "execution_count": 420,
   "metadata": {},
   "outputs": [],
   "source": [
    "def read_multilayer_adjacency_list(file_path,delimiter = ' '):\n",
    "    multilayer_graph = {}\n",
    "    with open(file_path, 'r') as file:\n",
    "        for line in file:\n",
    "            # Split the line into columns based on whitespace\n",
    "            layer, node_from, node_to , weight = line.strip().split(delimiter)\n",
    "            # Convert layer number to integer\n",
    "            layer = int(layer)\n",
    "            # Ensure layer exists in the multilayer graph dictionary\n",
    "            if layer not in multilayer_graph:\n",
    "                multilayer_graph[layer] = {}\n",
    "            # Add edges to the multilayer graph\n",
    "            if node_from not in multilayer_graph[layer]:\n",
    "                multilayer_graph[layer][node_from] = []\n",
    "\n",
    "            multilayer_graph[layer][node_from].append(node_to)\n",
    "    return multilayer_graph\n",
    "\n",
    "# Example usage:\n",
    "file_path = '/home/divyansh/COLLEGE/BTP/Datasets/NBAFINALS2015_Multiplex_Social/NBAFINALS2015_Multiplex_Social/Dataset/nodes.txt'  # Replace 'multilayer_graph.edges' with the path to your .edges file\n",
    "multilayer_adj = read_multilayer_adjacency_list(file_path)\n",
    "\n",
    "# Now you have a dictionary where the keys are layer numbers\n",
    "# and the values are lists of edges (represented as tuples of Node From and Node To).\n",
    "\n"
   ]
  },
  {
   "cell_type": "code",
   "execution_count": 421,
   "metadata": {},
   "outputs": [
    {
     "name": "stdout",
     "output_type": "stream",
     "text": [
      "{1: {'1': ['2', '3', '4', '5', '7'], '2': ['1', '7'], '3': ['1', '7', '4'], '7': ['2', '3', '4', '5', '1'], '4': ['1', '3', '7'], '5': ['1', '7', '11', '6'], '8': ['6'], '6': ['5', '10', '9'], '10': ['6', '12'], '12': ['10', '9'], '9': ['6', '12']}}\n"
     ]
    }
   ],
   "source": [
    "print(multilayer_adj)"
   ]
  },
  {
   "cell_type": "code",
   "execution_count": 422,
   "metadata": {},
   "outputs": [],
   "source": [
    "# print(multilayer_graph)\n",
    "def func(multilayer_graph):\n",
    "    with open('/home/divyansh/COLLEGE/BTP/btpKshells/output.txt', 'w') as file:\n",
    "        for x in multilayer_graph:\n",
    "            for y in multilayer_graph[x]:\n",
    "                file.write(str(y) + \" \")\n",
    "            file.write(\"\\n\")\n"
   ]
  },
  {
   "cell_type": "code",
   "execution_count": 423,
   "metadata": {},
   "outputs": [],
   "source": [
    "def read_multilayer_graph(file_path):\n",
    "    multilayer_graph = {}\n",
    "    with open(file_path, 'r') as file:\n",
    "        for line in file:\n",
    "            # Split the line into columns based on whitespace\n",
    "            layer, node_from, node_to ,wt = line.strip().split()\n",
    "            # Convert layer number to integer\n",
    "            layer = int(layer)\n",
    "            node_from = int(node_from)\n",
    "            node_to = int(node_to)\n",
    "            # Ensure layer exists in the multilayer graph dictionary\n",
    "            if layer not in multilayer_graph:\n",
    "                multilayer_graph[layer] = []\n",
    "            # Add edges to the multilayer graph\n",
    "            multilayer_graph[layer].append((node_from, node_to))\n",
    "    return multilayer_graph\n",
    "\n",
    "edges = '/home/divyansh/COLLEGE/BTP/Datasets/NBAFINALS2015_Multiplex_Social/NBAFINALS2015_Multiplex_Social/Dataset/nodes.txt'  # Replace 'multilayer_graph.edges' with the path to your .edges file\n",
    "\n",
    "multilayer_graph = read_multilayer_graph(edges)\n",
    "\n",
    "# Now you have a dictionary where the keys are layer numbers\n",
    "# and the values are lists of edges (represented as tuples of Node From and Node To).\n",
    "# print(multilayer_graph)\n"
   ]
  },
  {
   "cell_type": "code",
   "execution_count": 424,
   "metadata": {},
   "outputs": [],
   "source": [
    "import networkx as nx"
   ]
  },
  {
   "cell_type": "code",
   "execution_count": 425,
   "metadata": {},
   "outputs": [],
   "source": [
    "graph = nx.Graph()\n",
    "graph.add_edges_from(multilayer_graph[1])"
   ]
  },
  {
   "cell_type": "code",
   "execution_count": 426,
   "metadata": {},
   "outputs": [],
   "source": [
    "from networkx import community\n",
    "communities = community.label_propagation_communities(graph)\n"
   ]
  },
  {
   "cell_type": "code",
   "execution_count": 427,
   "metadata": {},
   "outputs": [],
   "source": [
    "# for value in communities.values():\n",
    "#     print(value)"
   ]
  },
  {
   "cell_type": "code",
   "execution_count": 428,
   "metadata": {},
   "outputs": [
    {
     "ename": "TypeError",
     "evalue": "list indices must be integers or slices, not tuple",
     "output_type": "error",
     "traceback": [
      "\u001b[0;31m---------------------------------------------------------------------------\u001b[0m",
      "\u001b[0;31mTypeError\u001b[0m                                 Traceback (most recent call last)",
      "Input \u001b[0;32mIn [428]\u001b[0m, in \u001b[0;36m<cell line: 2>\u001b[0;34m()\u001b[0m\n\u001b[1;32m      2\u001b[0m \u001b[38;5;28;01mwith\u001b[39;00m \u001b[38;5;28mopen\u001b[39m(\u001b[38;5;124m'\u001b[39m\u001b[38;5;124m/home/divyansh/COLLEGE/BTP/btpKshells/output.txt\u001b[39m\u001b[38;5;124m'\u001b[39m, \u001b[38;5;124m'\u001b[39m\u001b[38;5;124mw\u001b[39m\u001b[38;5;124m'\u001b[39m) \u001b[38;5;28;01mas\u001b[39;00m file:\n\u001b[1;32m      3\u001b[0m     \u001b[38;5;28;01mfor\u001b[39;00m i \u001b[38;5;129;01min\u001b[39;00m multilayer_graph[\u001b[38;5;241m1\u001b[39m]:\n\u001b[0;32m----> 4\u001b[0m         \u001b[38;5;28;01mfor\u001b[39;00m j \u001b[38;5;129;01min\u001b[39;00m \u001b[43mmultilayer_graph\u001b[49m\u001b[43m[\u001b[49m\u001b[38;5;241;43m1\u001b[39;49m\u001b[43m]\u001b[49m\u001b[43m[\u001b[49m\u001b[43mi\u001b[49m\u001b[43m]\u001b[49m:\n\u001b[1;32m      5\u001b[0m             file\u001b[38;5;241m.\u001b[39mwrite(\u001b[38;5;28mstr\u001b[39m(j) \u001b[38;5;241m+\u001b[39m \u001b[38;5;124m\"\u001b[39m\u001b[38;5;124m,\u001b[39m\u001b[38;5;130;01m\\n\u001b[39;00m\u001b[38;5;124m\"\u001b[39m)\n\u001b[1;32m      6\u001b[0m         file\u001b[38;5;241m.\u001b[39mwrite(\u001b[38;5;124m\"\u001b[39m\u001b[38;5;130;01m\\n\u001b[39;00m\u001b[38;5;124m\"\u001b[39m)\n",
      "\u001b[0;31mTypeError\u001b[0m: list indices must be integers or slices, not tuple"
     ]
    }
   ],
   "source": [
    "# print(communities)\n",
    "with open('/home/divyansh/COLLEGE/BTP/btpKshells/output.txt', 'w') as file:\n",
    "    for i in multilayer_graph[1]:\n",
    "        for j in multilayer_graph[1][i]:\n",
    "            file.write(str(j) + \",\\n\")\n",
    "        file.write(\"\\n\")\n",
    "        \n",
    "\n",
    "# print(communities.values())"
   ]
  },
  {
   "cell_type": "code",
   "execution_count": 429,
   "metadata": {},
   "outputs": [],
   "source": [
    "def calculate_degree(edges):\n",
    "    \n",
    "    n=0\n",
    "    for x in edges:\n",
    "        n=max(n,x[0])\n",
    "        n=max(n,x[1])\n",
    "    degrees = [0]*(n+1)\n",
    "    for edge in edges:\n",
    "        node1, node2 = edge\n",
    "\n",
    "        # Increment the degree of node1\n",
    "        degrees[node1] =  degrees[node1] + 1\n",
    "\n",
    "        # Increment the degree of node2\n",
    "        degrees[node2] = degrees[node2] + 1\n",
    "\n",
    "    return degrees"
   ]
  },
  {
   "cell_type": "code",
   "execution_count": 430,
   "metadata": {},
   "outputs": [],
   "source": [
    "degrees = calculate_degree(multilayer_graph[1])\n",
    "with open('/home/divyansh/COLLEGE/BTP/btpKshells/output.txt', 'w') as file:\n",
    "    for i in degrees:\n",
    "        file.write(str(degrees[i]) + \" \")\n",
    "    file.write(\" \\n\")    \n"
   ]
  },
  {
   "cell_type": "code",
   "execution_count": 431,
   "metadata": {},
   "outputs": [],
   "source": [
    "def read_multilayer_nodes(file_path,delimiter=\" \"):\n",
    "    multilayer_graph = []\n",
    "    with open(file_path, 'r') as file:\n",
    "        for line in file:\n",
    "            \n",
    "            node1 ,node2 = line.strip().split(delimiter)\n",
    "            \n",
    "            node1 = int(node1)\n",
    "            node2 = int(node2)\n",
    "            # Ensure layer exists in the multilayer graph dictionary\n",
    "            # if layer not in multilayer_graph:\n",
    "            #     multilayer_graph[layer] = []\n",
    "            # Add edges to the multilayer graph\n",
    "            multilayer_graph.append(node1)\n",
    "    return multilayer_graph\n",
    "\n",
    "nodes = '/home/divyansh/COLLEGE/BTP/Datasets/NBAFINALS2015_Multiplex_Social/NBAFINALS2015_Multiplex_Social/Dataset/nnodes.txt'  # Replace 'multilayer_graph.edges' with the path to your .edges file\n",
    "\n",
    "multilayer_nodes = read_multilayer_nodes(nodes)\n"
   ]
  },
  {
   "cell_type": "code",
   "execution_count": 432,
   "metadata": {},
   "outputs": [],
   "source": [
    "def getDegreeForCommunities(cc):\n",
    "    listOfCommunitites=list(cc)\n",
    "    numberOfNodes=0\n",
    "    for x in multilayer_graph[1] :\n",
    "        numberOfNodes=max(numberOfNodes,int(x[0]))\n",
    "        numberOfNodes=max(numberOfNodes,int(x[1]))\n",
    "    color=[0]*(numberOfNodes+1)\n",
    "    print(numberOfNodes)\n",
    "    for i in range(len(listOfCommunitites)):\n",
    "        for x in listOfCommunitites[i]:\n",
    "            color[x]=1\n",
    "    degreeToCommunitites=[0]*(numberOfNodes+1)\n",
    "    neighbors=[]\n",
    "    for x in range(numberOfNodes+1):\n",
    "        neighbors.append([])\n",
    "    for e in multilayer_graph[1] :\n",
    "        # print(e)\n",
    "        if e[0] in listOfCommunitites[0] and e[1] in listOfCommunitites[0] :\n",
    "            neighbors[e[0]].append(e[1])\n",
    "            neighbors[e[1]].append(e[0])\n",
    "    for i in range(1,numberOfNodes+1):\n",
    "        neighbors[i]=list(set(neighbors[i]))\n",
    "        degreeToCommunitites[i]+=len(neighbors[i])\n",
    "    # for i in range(1,numberOfNodes+1):\n",
    "    #     for x in neighbors[i]:\n",
    "    #         degrees[x]+=1\n",
    "\n",
    "    \n",
    "    # print(\"___\")\n",
    "\n",
    "    return degreeToCommunitites,numberOfNodes,neighbors"
   ]
  },
  {
   "cell_type": "code",
   "execution_count": 437,
   "metadata": {},
   "outputs": [],
   "source": [
    "def condition(ns,temp,dg):\n",
    "    for x in ns:\n",
    "        if dg[x]==temp:\n",
    "            return True\n",
    "    return False\n",
    "\n",
    "def label_propagation_algorithm(cc):\n",
    "    # Step 1: Initialize Node set (NS) and buckets list (BL)\n",
    "    NS = set(cc[0])\n",
    "    # print(multilayer_nodes)\n",
    "    \n",
    "    # Step 2: Find cc using Label Propagation Algorithm\n",
    "    # cc\n",
    "\n",
    "\n",
    "    # Step 3: Find the degrees of the nodes\n",
    "    # degrees = calculate_degree(edges)\n",
    "    degrees,numberOfNodes,neighbors=getDegreeForCommunities(cc)\n",
    "    # print(neighbors)\n",
    "    # print(degrees)\n",
    "    # print(neighbors[7])\n",
    "    BL = {temp: [] for temp in range(1, numberOfNodes+1)}\n",
    "    # n = max(y for y in degrees)\n",
    "    # print(n)\n",
    "    # print(degrees)\n",
    "    reward_points = [0]*(numberOfNodes+1)\n",
    "    # neighbors=[0]*(numberOfNodes+1)\n",
    "    for temp in range(1, numberOfNodes):\n",
    "        # print(NS)\n",
    "        # print(degrees)\n",
    "        while condition(NS,temp,degrees):\n",
    "            removedOnes=[]\n",
    "            for i_l in NS:\n",
    "                if i_l not in cc[0]:\n",
    "                    continue\n",
    "                # print(]i_l)\n",
    "                if degrees[i_l] == temp:\n",
    "                    \n",
    "                    # NS.remove(i_l)\n",
    "                    removedOnes.append(i_l)\n",
    "                    # Step 8: Add one reward point to neighbors of node i_l\n",
    "                    for neighbor in neighbors[i_l]:\n",
    "\n",
    "                        neighbors[neighbor].remove(i_l)\n",
    "                        # degrees[neighbor]-=1\n",
    "                        reward_points[neighbor] += 1\n",
    "                    \n",
    "                    # Step 9: Add node i_l to the degree's bucket\n",
    "                    BL[temp].append(i_l)\n",
    "            # print(removedOnes)\n",
    "            for x in removedOnes:\n",
    "                degrees[x]=0\n",
    "                for y in neighbors[x]:\n",
    "                    degrees[y]-=1\n",
    "                NS.remove(x)\n",
    "            # for x in NS:\n",
    "            #     degrees[i]=len(neighbors[i])\n",
    "        \n",
    "        # # Step 11: Check if any node left with degree temp\n",
    "        # while BL[temp]:\n",
    "        #     # Repeat steps 5-8\n",
    "        #     i_l = BL[temp].pop()\n",
    "        #     for neighbor in neighbors[i_l]:\n",
    "        #         reward_points[neighbor] += 1\n",
    "        #     # BL[temp].append(i_l)\n",
    "    bucketReward={temp: [] for temp in range(1, numberOfNodes+1)}\n",
    "    for x,y in BL.items():\n",
    "        for z in y:\n",
    "            bucketReward[x].append([z,reward_points[z]])\n",
    "    return bucketReward\n",
    "    # Step 13: Increment temp\n",
    "    # temp += 1\n",
    "    \n",
    "    # Step 14: Update the buckets list BL\n",
    "    # Assuming there's an update_buckets_list function to handle this step\n",
    "    # update_buckets_list(BL)\n"
   ]
  },
  {
   "cell_type": "code",
   "execution_count": 438,
   "metadata": {},
   "outputs": [
    {
     "name": "stdout",
     "output_type": "stream",
     "text": [
      "{1, 2, 3, 4, 5, 7, 11}\n",
      "12\n",
      "[0, 5, 2, 3, 3, 3, 0, 5, 0, 0, 0, 1, 0]\n",
      "[1, 2, 3, 4, 5]\n",
      "{1, 2, 3, 4, 5, 7, 11}\n",
      "[0, 5, 2, 3, 3, 3, 0, 5, 0, 0, 0, 1, 0]\n",
      "[11]\n",
      "{1, 2, 3, 4, 5, 7}\n",
      "[0, 5, 2, 3, 3, 2, 0, 5, 0, 0, 0, 0, 0]\n",
      "[2, 5]\n",
      "{1, 3, 4, 7}\n",
      "[0, 3, 0, 3, 3, 0, 0, 3, 0, 0, 0, 0, 0]\n",
      "[1, 3, 4, 7]\n",
      "set()\n",
      "[0, 0, 0, 0, 0, 0, 0, 0, 0, 0, 0, 0, 0]\n",
      "set()\n",
      "[0, 0, 0, 0, 0, 0, 0, 0, 0, 0, 0, 0, 0]\n",
      "set()\n",
      "[0, 0, 0, 0, 0, 0, 0, 0, 0, 0, 0, 0, 0]\n",
      "set()\n",
      "[0, 0, 0, 0, 0, 0, 0, 0, 0, 0, 0, 0, 0]\n",
      "set()\n",
      "[0, 0, 0, 0, 0, 0, 0, 0, 0, 0, 0, 0, 0]\n",
      "set()\n",
      "[0, 0, 0, 0, 0, 0, 0, 0, 0, 0, 0, 0, 0]\n",
      "set()\n",
      "[0, 0, 0, 0, 0, 0, 0, 0, 0, 0, 0, 0, 0]\n",
      "set()\n",
      "[0, 0, 0, 0, 0, 0, 0, 0, 0, 0, 0, 0, 0]\n",
      "{6, 8, 9, 10, 12}\n",
      "12\n",
      "[0, 0, 0, 0, 0, 0, 3, 0, 1, 2, 2, 0, 2]\n",
      "[]\n",
      "{6, 8, 9, 10, 12}\n",
      "[0, 0, 0, 0, 0, 0, 3, 0, 1, 2, 2, 0, 2]\n",
      "[8]\n",
      "{6, 9, 10, 12}\n",
      "[0, 0, 0, 0, 0, 0, 2, 0, 0, 2, 2, 0, 2]\n",
      "[6, 9, 10, 12]\n",
      "set()\n",
      "[0, 0, 0, 0, 0, 0, 0, 0, 0, 0, 0, 0, 0]\n",
      "set()\n",
      "[0, 0, 0, 0, 0, 0, 0, 0, 0, 0, 0, 0, 0]\n",
      "set()\n",
      "[0, 0, 0, 0, 0, 0, 0, 0, 0, 0, 0, 0, 0]\n",
      "set()\n",
      "[0, 0, 0, 0, 0, 0, 0, 0, 0, 0, 0, 0, 0]\n",
      "set()\n",
      "[0, 0, 0, 0, 0, 0, 0, 0, 0, 0, 0, 0, 0]\n",
      "set()\n",
      "[0, 0, 0, 0, 0, 0, 0, 0, 0, 0, 0, 0, 0]\n",
      "set()\n",
      "[0, 0, 0, 0, 0, 0, 0, 0, 0, 0, 0, 0, 0]\n",
      "set()\n",
      "[0, 0, 0, 0, 0, 0, 0, 0, 0, 0, 0, 0, 0]\n",
      "set()\n",
      "[0, 0, 0, 0, 0, 0, 0, 0, 0, 0, 0, 0, 0]\n",
      "[{1: [[11, 0]], 2: [[2, 0], [5, 1]], 3: [[1, 2], [3, 1], [4, 2], [7, 5]], 4: [], 5: [], 6: [], 7: [], 8: [], 9: [], 10: [], 11: [], 12: []}, {1: [[8, 0]], 2: [[6, 1], [9, 1], [10, 1], [12, 2]], 3: [], 4: [], 5: [], 6: [], 7: [], 8: [], 9: [], 10: [], 11: [], 12: []}]\n"
     ]
    }
   ],
   "source": [
    "# for y in degrees:\n",
    "# n = max(degrees[y] for y in degrees) \n",
    "# print(n)\n",
    "bucketListCommunities=[]\n",
    "for x in list(communities):\n",
    "    print(x)\n",
    "    y=[x]\n",
    "    BL=label_propagation_algorithm(y)\n",
    "    bucketListCommunities.append(BL)\n",
    "print(bucketListCommunities)"
   ]
  },
  {
   "cell_type": "code",
   "execution_count": null,
   "metadata": {},
   "outputs": [],
   "source": []
  },
  {
   "cell_type": "code",
   "execution_count": null,
   "metadata": {},
   "outputs": [],
   "source": []
  }
 ],
 "metadata": {
  "kernelspec": {
   "display_name": "Python 3",
   "language": "python",
   "name": "python3"
  },
  "language_info": {
   "codemirror_mode": {
    "name": "ipython",
    "version": 3
   },
   "file_extension": ".py",
   "mimetype": "text/x-python",
   "name": "python",
   "nbconvert_exporter": "python",
   "pygments_lexer": "ipython3",
   "version": "3.8.10"
  }
 },
 "nbformat": 4,
 "nbformat_minor": 2
}
